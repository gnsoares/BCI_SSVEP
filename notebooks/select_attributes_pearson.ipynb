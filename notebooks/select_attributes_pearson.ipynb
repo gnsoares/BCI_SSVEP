{
 "cells": [
  {
   "cell_type": "code",
   "execution_count": 1,
   "metadata": {},
   "outputs": [],
   "source": [
    "import sys\n",
    "sys.path.append('../')\n",
    "import pandas as pd\n",
    "from itertools import combinations\n",
    "from source.attribute_selection import pearson"
   ]
  },
  {
   "cell_type": "code",
   "execution_count": 2,
   "metadata": {},
   "outputs": [],
   "source": [
    "freqs = [6, 12, 20, 30, 75]\n",
    "classifiers = {\n",
    "    f'{comb[0]}_{comb[1]}': pd.read_csv(f'../classifiers/carvalho/{comb[0]}_{comb[1]}.csv')\n",
    "    for comb in combinations(freqs, 2)\n",
    "}\n",
    "classifiers_car = {\n",
    "    f'{comb[0]}_{comb[1]}': pd.read_csv(f'../classifiers/carvalho/{comb[0]}_{comb[1]}_car.csv')\n",
    "    for comb in combinations(freqs, 2)\n",
    "}"
   ]
  },
  {
   "cell_type": "code",
   "execution_count": 3,
   "metadata": {},
   "outputs": [],
   "source": [
    "pearson_coeffs = {k: pearson(classifier) for k, classifier in classifiers.items()}\n",
    "pearson_coeffs_car = {f'{k}_car': pearson(classifier) for k, classifier in classifiers_car.items()}"
   ]
  },
  {
   "cell_type": "code",
   "execution_count": 4,
   "metadata": {},
   "outputs": [],
   "source": [
    "# concatenate results\n",
    "pearson_coeffs = pd.concat((pd.DataFrame(pearson_coeffs), pd.DataFrame(pearson_coeffs_car)), axis=1)"
   ]
  },
  {
   "cell_type": "code",
   "execution_count": 5,
   "metadata": {},
   "outputs": [
    {
     "output_type": "execute_result",
     "data": {
      "text/plain": "              6_12      6_20      6_30      6_75     12_20     12_30  \\\nch0_6Hz   0.259443  0.257951  0.312519  0.276779  0.031799  0.109794   \nch0_12Hz  0.118494  0.220420  0.288796  0.221290  0.358918  0.436892   \nch0_18Hz  0.097250  0.192813  0.224816  0.147789  0.137667  0.186027   \nch0_20Hz  0.102195  0.067692  0.078641  0.070830  0.180246  0.032858   \nch0_24Hz  0.021776  0.098161  0.110963  0.078484  0.088858  0.104681   \n\n             12_75     20_30     20_75     30_75  6_12_car  6_20_car  \\\nch0_6Hz   0.036528  0.055662  0.002730  0.072995  0.228753  0.231671   \nch0_12Hz  0.368757  0.071642  0.013920  0.095546  0.150885  0.225411   \nch0_18Hz  0.073563  0.043323  0.059262  0.102834  0.062916  0.214985   \nch0_20Hz  0.033380  0.160852  0.146728  0.003322  0.057677  0.126079   \nch0_24Hz  0.065867  0.007384  0.027827  0.038741  0.022201  0.074275   \n\n          6_30_car  6_75_car  12_20_car  12_30_car  12_75_car  20_30_car  \\\nch0_6Hz   0.292853  0.276895   0.029847   0.123658   0.091386   0.071406   \nch0_12Hz  0.292886  0.212462   0.377237   0.445618   0.368910   0.068951   \nch0_18Hz  0.250074  0.172500   0.173904   0.213782   0.126978   0.033203   \nch0_20Hz  0.027511  0.080558   0.193300   0.036518   0.025992   0.168759   \nch0_24Hz  0.153506  0.080252   0.093695   0.171748   0.100330   0.068568   \n\n          20_75_car  30_75_car  \nch0_6Hz    0.044452   0.034329  \nch0_12Hz   0.022003   0.095731  \nch0_18Hz   0.037736   0.070297  \nch0_20Hz   0.214860   0.063527  \nch0_24Hz   0.001988   0.070776  ",
      "text/html": "<div>\n<style scoped>\n    .dataframe tbody tr th:only-of-type {\n        vertical-align: middle;\n    }\n\n    .dataframe tbody tr th {\n        vertical-align: top;\n    }\n\n    .dataframe thead th {\n        text-align: right;\n    }\n</style>\n<table border=\"1\" class=\"dataframe\">\n  <thead>\n    <tr style=\"text-align: right;\">\n      <th></th>\n      <th>6_12</th>\n      <th>6_20</th>\n      <th>6_30</th>\n      <th>6_75</th>\n      <th>12_20</th>\n      <th>12_30</th>\n      <th>12_75</th>\n      <th>20_30</th>\n      <th>20_75</th>\n      <th>30_75</th>\n      <th>6_12_car</th>\n      <th>6_20_car</th>\n      <th>6_30_car</th>\n      <th>6_75_car</th>\n      <th>12_20_car</th>\n      <th>12_30_car</th>\n      <th>12_75_car</th>\n      <th>20_30_car</th>\n      <th>20_75_car</th>\n      <th>30_75_car</th>\n    </tr>\n  </thead>\n  <tbody>\n    <tr>\n      <th>ch0_6Hz</th>\n      <td>0.259443</td>\n      <td>0.257951</td>\n      <td>0.312519</td>\n      <td>0.276779</td>\n      <td>0.031799</td>\n      <td>0.109794</td>\n      <td>0.036528</td>\n      <td>0.055662</td>\n      <td>0.002730</td>\n      <td>0.072995</td>\n      <td>0.228753</td>\n      <td>0.231671</td>\n      <td>0.292853</td>\n      <td>0.276895</td>\n      <td>0.029847</td>\n      <td>0.123658</td>\n      <td>0.091386</td>\n      <td>0.071406</td>\n      <td>0.044452</td>\n      <td>0.034329</td>\n    </tr>\n    <tr>\n      <th>ch0_12Hz</th>\n      <td>0.118494</td>\n      <td>0.220420</td>\n      <td>0.288796</td>\n      <td>0.221290</td>\n      <td>0.358918</td>\n      <td>0.436892</td>\n      <td>0.368757</td>\n      <td>0.071642</td>\n      <td>0.013920</td>\n      <td>0.095546</td>\n      <td>0.150885</td>\n      <td>0.225411</td>\n      <td>0.292886</td>\n      <td>0.212462</td>\n      <td>0.377237</td>\n      <td>0.445618</td>\n      <td>0.368910</td>\n      <td>0.068951</td>\n      <td>0.022003</td>\n      <td>0.095731</td>\n    </tr>\n    <tr>\n      <th>ch0_18Hz</th>\n      <td>0.097250</td>\n      <td>0.192813</td>\n      <td>0.224816</td>\n      <td>0.147789</td>\n      <td>0.137667</td>\n      <td>0.186027</td>\n      <td>0.073563</td>\n      <td>0.043323</td>\n      <td>0.059262</td>\n      <td>0.102834</td>\n      <td>0.062916</td>\n      <td>0.214985</td>\n      <td>0.250074</td>\n      <td>0.172500</td>\n      <td>0.173904</td>\n      <td>0.213782</td>\n      <td>0.126978</td>\n      <td>0.033203</td>\n      <td>0.037736</td>\n      <td>0.070297</td>\n    </tr>\n    <tr>\n      <th>ch0_20Hz</th>\n      <td>0.102195</td>\n      <td>0.067692</td>\n      <td>0.078641</td>\n      <td>0.070830</td>\n      <td>0.180246</td>\n      <td>0.032858</td>\n      <td>0.033380</td>\n      <td>0.160852</td>\n      <td>0.146728</td>\n      <td>0.003322</td>\n      <td>0.057677</td>\n      <td>0.126079</td>\n      <td>0.027511</td>\n      <td>0.080558</td>\n      <td>0.193300</td>\n      <td>0.036518</td>\n      <td>0.025992</td>\n      <td>0.168759</td>\n      <td>0.214860</td>\n      <td>0.063527</td>\n    </tr>\n    <tr>\n      <th>ch0_24Hz</th>\n      <td>0.021776</td>\n      <td>0.098161</td>\n      <td>0.110963</td>\n      <td>0.078484</td>\n      <td>0.088858</td>\n      <td>0.104681</td>\n      <td>0.065867</td>\n      <td>0.007384</td>\n      <td>0.027827</td>\n      <td>0.038741</td>\n      <td>0.022201</td>\n      <td>0.074275</td>\n      <td>0.153506</td>\n      <td>0.080252</td>\n      <td>0.093695</td>\n      <td>0.171748</td>\n      <td>0.100330</td>\n      <td>0.068568</td>\n      <td>0.001988</td>\n      <td>0.070776</td>\n    </tr>\n  </tbody>\n</table>\n</div>"
     },
     "metadata": {},
     "execution_count": 5
    }
   ],
   "source": [
    "pearson_coeffs.head()"
   ]
  },
  {
   "cell_type": "code",
   "execution_count": 6,
   "metadata": {},
   "outputs": [],
   "source": [
    "# format dataframe\n",
    "pearson_rankings = pd.DataFrame()\n",
    "for i in pearson_coeffs:\n",
    "    pearson_rankings[i] = [i[0] for i in sorted(dict(pearson_coeffs[i]).items(), key=lambda x: x[1], reverse=True)]"
   ]
  },
  {
   "cell_type": "code",
   "execution_count": 7,
   "metadata": {},
   "outputs": [
    {
     "output_type": "execute_result",
     "data": {
      "text/plain": "      6_12      6_20      6_30      6_75     12_20     12_30     12_75  \\\n0  ch0_6Hz   ch6_6Hz   ch3_6Hz   ch3_6Hz  ch1_12Hz  ch0_12Hz  ch0_12Hz   \n1  ch3_6Hz   ch3_6Hz  ch10_6Hz  ch10_6Hz  ch0_12Hz  ch1_12Hz  ch1_12Hz   \n2  ch6_6Hz   ch5_6Hz   ch6_6Hz  ch2_12Hz  ch6_12Hz  ch6_12Hz  ch3_12Hz   \n3  ch1_6Hz  ch2_12Hz   ch5_6Hz   ch0_6Hz  ch5_12Hz  ch3_12Hz  ch5_12Hz   \n4  ch8_6Hz  ch10_6Hz   ch0_6Hz  ch1_12Hz  ch3_12Hz  ch5_12Hz  ch6_12Hz   \n\n        20_30      20_75      30_75 6_12_car  6_20_car  6_30_car  6_75_car  \\\n0    ch1_20Hz   ch2_20Hz  ch7_225Hz  ch0_6Hz   ch5_6Hz   ch3_6Hz  ch10_6Hz   \n1    ch0_20Hz  ch0_150Hz   ch6_90Hz  ch3_6Hz   ch6_6Hz  ch10_6Hz  ch2_12Hz   \n2    ch5_20Hz  ch8_150Hz  ch9_225Hz  ch6_6Hz   ch3_6Hz   ch5_6Hz   ch3_6Hz   \n3    ch6_20Hz   ch8_36Hz  ch4_225Hz  ch5_6Hz  ch1_12Hz   ch6_6Hz  ch1_12Hz   \n4  ch10_225Hz  ch6_150Hz  ch3_225Hz  ch8_6Hz  ch5_12Hz  ch1_12Hz   ch2_6Hz   \n\n  12_20_car 12_30_car 12_75_car 20_30_car  20_75_car  30_75_car  \n0  ch2_12Hz  ch0_12Hz  ch2_12Hz  ch0_20Hz   ch2_20Hz   ch6_90Hz  \n1  ch1_12Hz  ch1_12Hz  ch1_12Hz  ch1_20Hz   ch0_20Hz  ch6_150Hz  \n2  ch0_12Hz  ch6_12Hz  ch0_12Hz  ch2_20Hz   ch1_20Hz  ch0_150Hz  \n3  ch6_12Hz  ch2_12Hz  ch3_12Hz  ch5_20Hz  ch13_20Hz   ch0_90Hz  \n4  ch5_12Hz  ch3_12Hz  ch6_12Hz  ch6_20Hz  ch0_150Hz   ch8_36Hz  ",
      "text/html": "<div>\n<style scoped>\n    .dataframe tbody tr th:only-of-type {\n        vertical-align: middle;\n    }\n\n    .dataframe tbody tr th {\n        vertical-align: top;\n    }\n\n    .dataframe thead th {\n        text-align: right;\n    }\n</style>\n<table border=\"1\" class=\"dataframe\">\n  <thead>\n    <tr style=\"text-align: right;\">\n      <th></th>\n      <th>6_12</th>\n      <th>6_20</th>\n      <th>6_30</th>\n      <th>6_75</th>\n      <th>12_20</th>\n      <th>12_30</th>\n      <th>12_75</th>\n      <th>20_30</th>\n      <th>20_75</th>\n      <th>30_75</th>\n      <th>6_12_car</th>\n      <th>6_20_car</th>\n      <th>6_30_car</th>\n      <th>6_75_car</th>\n      <th>12_20_car</th>\n      <th>12_30_car</th>\n      <th>12_75_car</th>\n      <th>20_30_car</th>\n      <th>20_75_car</th>\n      <th>30_75_car</th>\n    </tr>\n  </thead>\n  <tbody>\n    <tr>\n      <th>0</th>\n      <td>ch0_6Hz</td>\n      <td>ch6_6Hz</td>\n      <td>ch3_6Hz</td>\n      <td>ch3_6Hz</td>\n      <td>ch1_12Hz</td>\n      <td>ch0_12Hz</td>\n      <td>ch0_12Hz</td>\n      <td>ch1_20Hz</td>\n      <td>ch2_20Hz</td>\n      <td>ch7_225Hz</td>\n      <td>ch0_6Hz</td>\n      <td>ch5_6Hz</td>\n      <td>ch3_6Hz</td>\n      <td>ch10_6Hz</td>\n      <td>ch2_12Hz</td>\n      <td>ch0_12Hz</td>\n      <td>ch2_12Hz</td>\n      <td>ch0_20Hz</td>\n      <td>ch2_20Hz</td>\n      <td>ch6_90Hz</td>\n    </tr>\n    <tr>\n      <th>1</th>\n      <td>ch3_6Hz</td>\n      <td>ch3_6Hz</td>\n      <td>ch10_6Hz</td>\n      <td>ch10_6Hz</td>\n      <td>ch0_12Hz</td>\n      <td>ch1_12Hz</td>\n      <td>ch1_12Hz</td>\n      <td>ch0_20Hz</td>\n      <td>ch0_150Hz</td>\n      <td>ch6_90Hz</td>\n      <td>ch3_6Hz</td>\n      <td>ch6_6Hz</td>\n      <td>ch10_6Hz</td>\n      <td>ch2_12Hz</td>\n      <td>ch1_12Hz</td>\n      <td>ch1_12Hz</td>\n      <td>ch1_12Hz</td>\n      <td>ch1_20Hz</td>\n      <td>ch0_20Hz</td>\n      <td>ch6_150Hz</td>\n    </tr>\n    <tr>\n      <th>2</th>\n      <td>ch6_6Hz</td>\n      <td>ch5_6Hz</td>\n      <td>ch6_6Hz</td>\n      <td>ch2_12Hz</td>\n      <td>ch6_12Hz</td>\n      <td>ch6_12Hz</td>\n      <td>ch3_12Hz</td>\n      <td>ch5_20Hz</td>\n      <td>ch8_150Hz</td>\n      <td>ch9_225Hz</td>\n      <td>ch6_6Hz</td>\n      <td>ch3_6Hz</td>\n      <td>ch5_6Hz</td>\n      <td>ch3_6Hz</td>\n      <td>ch0_12Hz</td>\n      <td>ch6_12Hz</td>\n      <td>ch0_12Hz</td>\n      <td>ch2_20Hz</td>\n      <td>ch1_20Hz</td>\n      <td>ch0_150Hz</td>\n    </tr>\n    <tr>\n      <th>3</th>\n      <td>ch1_6Hz</td>\n      <td>ch2_12Hz</td>\n      <td>ch5_6Hz</td>\n      <td>ch0_6Hz</td>\n      <td>ch5_12Hz</td>\n      <td>ch3_12Hz</td>\n      <td>ch5_12Hz</td>\n      <td>ch6_20Hz</td>\n      <td>ch8_36Hz</td>\n      <td>ch4_225Hz</td>\n      <td>ch5_6Hz</td>\n      <td>ch1_12Hz</td>\n      <td>ch6_6Hz</td>\n      <td>ch1_12Hz</td>\n      <td>ch6_12Hz</td>\n      <td>ch2_12Hz</td>\n      <td>ch3_12Hz</td>\n      <td>ch5_20Hz</td>\n      <td>ch13_20Hz</td>\n      <td>ch0_90Hz</td>\n    </tr>\n    <tr>\n      <th>4</th>\n      <td>ch8_6Hz</td>\n      <td>ch10_6Hz</td>\n      <td>ch0_6Hz</td>\n      <td>ch1_12Hz</td>\n      <td>ch3_12Hz</td>\n      <td>ch5_12Hz</td>\n      <td>ch6_12Hz</td>\n      <td>ch10_225Hz</td>\n      <td>ch6_150Hz</td>\n      <td>ch3_225Hz</td>\n      <td>ch8_6Hz</td>\n      <td>ch5_12Hz</td>\n      <td>ch1_12Hz</td>\n      <td>ch2_6Hz</td>\n      <td>ch5_12Hz</td>\n      <td>ch3_12Hz</td>\n      <td>ch6_12Hz</td>\n      <td>ch6_20Hz</td>\n      <td>ch0_150Hz</td>\n      <td>ch8_36Hz</td>\n    </tr>\n  </tbody>\n</table>\n</div>"
     },
     "metadata": {},
     "execution_count": 7
    }
   ],
   "source": [
    "pearson_rankings.head()"
   ]
  },
  {
   "cell_type": "code",
   "execution_count": 8,
   "metadata": {},
   "outputs": [],
   "source": [
    "# save dataframe to csv file\n",
    "pearson_rankings.to_csv('../pearson_rankings/carvalho.csv', index=False)"
   ]
  }
 ],
 "metadata": {
  "kernelspec": {
   "display_name": "Python 3",
   "language": "python",
   "name": "python3"
  },
  "language_info": {
   "codemirror_mode": {
    "name": "ipython",
    "version": 3
   },
   "file_extension": ".py",
   "mimetype": "text/x-python",
   "name": "python",
   "nbconvert_exporter": "python",
   "pygments_lexer": "ipython3",
   "version": "3.8.2"
  }
 },
 "nbformat": 4,
 "nbformat_minor": 4
}