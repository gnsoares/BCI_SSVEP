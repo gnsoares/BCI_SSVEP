{
 "metadata": {
  "language_info": {
   "codemirror_mode": {
    "name": "ipython",
    "version": 3
   },
   "file_extension": ".py",
   "mimetype": "text/x-python",
   "name": "python",
   "nbconvert_exporter": "python",
   "pygments_lexer": "ipython3",
   "version": 3
  },
  "orig_nbformat": 2,
  "kernelspec": {
   "name": "python_defaultSpec_1595286371853",
   "display_name": "Python 3.8.3 64-bit ('env': virtualenv)"
  }
 },
 "nbformat": 4,
 "nbformat_minor": 2,
 "cells": [
  {
   "cell_type": "code",
   "execution_count": 1,
   "metadata": {},
   "outputs": [],
   "source": [
    "import sys\n",
    "sys.path.append('../')\n",
    "import pandas as pd\n",
    "from source.ml import random_setify"
   ]
  },
  {
   "cell_type": "code",
   "execution_count": 2,
   "metadata": {},
   "outputs": [],
   "source": [
    "freqs = [6, 12, 20, 30, 75]\n",
    "train_pct = .7\n",
    "valid_pct = .3\n",
    "attributes = pd.read_csv(f'../extracted_attributes/carvalho.csv')\n",
    "attributes_car = pd.read_csv(f'../extracted_attributes/carvalho_car.csv')"
   ]
  },
  {
   "cell_type": "code",
   "execution_count": 3,
   "metadata": {},
   "outputs": [],
   "source": [
    "sets = random_setify(attributes, train_pct, valid_pct)\n",
    "sets_car = random_setify(attributes_car, train_pct, valid_pct)"
   ]
  },
  {
   "cell_type": "code",
   "execution_count": 4,
   "metadata": {},
   "outputs": [],
   "source": [
    "sets[0].to_csv(f'../sets/carvalho/train.csv', index=False)\n",
    "sets[1].to_csv(f'../sets/carvalho/valid.csv', index=False)\n",
    "sets_car[0].to_csv(f'../sets/carvalho/train_car.csv', index=False)\n",
    "sets_car[1].to_csv(f'../sets/carvalho/valid_car.csv', index=False)"
   ]
  }
 ]
}