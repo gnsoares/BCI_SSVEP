{
 "metadata": {
  "language_info": {
   "codemirror_mode": {
    "name": "ipython",
    "version": 3
   },
   "file_extension": ".py",
   "mimetype": "text/x-python",
   "name": "python",
   "nbconvert_exporter": "python",
   "pygments_lexer": "ipython3",
   "version": 3
  },
  "orig_nbformat": 2,
  "kernelspec": {
   "name": "python_defaultSpec_1595292048188",
   "display_name": "Python 3.8.3 64-bit ('env': virtualenv)"
  }
 },
 "nbformat": 4,
 "nbformat_minor": 2,
 "cells": [
  {
   "cell_type": "code",
   "execution_count": 1,
   "metadata": {},
   "outputs": [],
   "source": [
    "import sys\n",
    "sys.path.append('../')\n",
    "import pandas as pd\n",
    "from itertools import combinations\n",
    "from source.ml import random_setify, drop_states\n",
    "from source.lda import linear_discriminant_analysis, classify, choose_class"
   ]
  },
  {
   "cell_type": "code",
   "execution_count": 2,
   "metadata": {},
   "outputs": [],
   "source": [
    "freqs = [6, 20, 75]\n",
    "classifiers = {\n",
    "    f'{comb[0]}_{comb[1]}': pd.read_csv(f'../classifiers/carvalho/{comb[0]}_{comb[1]}.csv')\n",
    "    for comb in combinations(freqs, 2)\n",
    "}\n",
    "validation = drop_states(pd.read_csv('../sets/carvalho/valid.csv'), [12, 30])"
   ]
  },
  {
   "cell_type": "code",
   "execution_count": 3,
   "metadata": {
    "tags": []
   },
   "outputs": [],
   "source": [
    "w = {s: linear_discriminant_analysis(c) for s, c in classifiers.items()}\n"
   ]
  },
  {
   "cell_type": "code",
   "execution_count": 4,
   "metadata": {},
   "outputs": [],
   "source": [
    "classified = classify(validation, w)"
   ]
  },
  {
   "cell_type": "code",
   "execution_count": 5,
   "metadata": {
    "tags": []
   },
   "outputs": [],
   "source": [
    "chosen = choose_class(classified)"
   ]
  },
  {
   "cell_type": "code",
   "execution_count": 6,
   "metadata": {
    "tags": []
   },
   "outputs": [
    {
     "output_type": "stream",
     "name": "stdout",
     "text": "0: right:  6; predicted:  6 --> OK!\n  1: right: 20; predicted:  6 --> X\n  2: right: 75; predicted:  6 --> X\n  3: right:  6; predicted: 20 --> X\n  4: right: 20; predicted: 20 --> OK!\n  5: right: 75; predicted:  6 --> X\n  6: right:  6; predicted: 75 --> X\n  7: right: 20; predicted: 20 --> OK!\n  8: right: 75; predicted: 75 --> OK!\n  9: right:  6; predicted:  6 --> OK!\n 10: right: 20; predicted:  6 --> X\n 11: right: 75; predicted:  6 --> X\n 12: right:  6; predicted:  6 --> OK!\n 13: right: 20; predicted: 75 --> X\n 14: right: 75; predicted: 20 --> X\n 15: right:  6; predicted:  6 --> OK!\n 16: right: 20; predicted: 75 --> X\n 17: right: 75; predicted:  6 --> X\n 18: right:  6; predicted:  6 --> OK!\n 19: right: 20; predicted:  6 --> X\n 20: right: 75; predicted:  6 --> X\n 21: right:  6; predicted:  6 --> OK!\n 22: right: 20; predicted:  6 --> X\n 23: right: 75; predicted:  6 --> X\n 24: right:  6; predicted:  6 --> OK!\n 25: right: 20; predicted: 20 --> OK!\n 26: right: 75; predicted:  6 --> X\n 27: right:  6; predicted:  6 --> OK!\n 28: right: 20; predicted:  6 --> X\n 29: right: 75; predicted: 75 --> OK!\n 30: right:  6; predicted:  6 --> OK!\n 31: right: 20; predicted: 20 --> OK!\n 32: right: 75; predicted: 20 --> X\n 33: right:  6; predicted:  6 --> OK!\n 34: right: 20; predicted: 20 --> OK!\n 35: right: 75; predicted: 20 --> X\n 36: right:  6; predicted: 20 --> X\n 37: right: 20; predicted:  6 --> X\n 38: right: 75; predicted:  6 --> X\n 39: right:  6; predicted:  6 --> OK!\n 40: right: 20; predicted:  6 --> X\n 41: right: 75; predicted:  6 --> X\n 42: right:  6; predicted: 75 --> X\n 43: right: 20; predicted:  6 --> X\n 44: right: 75; predicted:  6 --> X\n 45: right:  6; predicted:  6 --> OK!\n 46: right: 20; predicted:  6 --> X\n 47: right: 75; predicted: 75 --> OK!\n 48: right:  6; predicted:  6 --> OK!\n 49: right: 20; predicted: 20 --> OK!\n 50: right: 75; predicted:  6 --> X\n 51: right:  6; predicted:  6 --> OK!\n 52: right: 20; predicted: 20 --> OK!\n 53: right: 75; predicted: 20 --> X\n 54: right:  6; predicted: 20 --> X\n 55: right: 20; predicted:  6 --> X\n 56: right: 75; predicted:  6 --> X\n 57: right:  6; predicted: 20 --> X\n 58: right: 20; predicted:  6 --> X\n 59: right: 75; predicted: 20 --> X\n 60: right:  6; predicted:  6 --> OK!\n 61: right: 20; predicted: 75 --> X\n 62: right: 75; predicted: 20 --> X\n 63: right:  6; predicted:  6 --> OK!\n 64: right: 20; predicted:  6 --> X\n 65: right: 75; predicted:  6 --> X\n 66: right:  6; predicted: 75 --> X\n 67: right: 20; predicted:  6 --> X\n 68: right: 75; predicted: 20 --> X\n 69: right:  6; predicted:  6 --> OK!\n 70: right: 20; predicted: 20 --> OK!\n 71: right: 75; predicted:  6 --> X\n 72: right:  6; predicted:  6 --> OK!\n 73: right: 20; predicted:  6 --> X\n 74: right: 75; predicted: 75 --> OK!\n 75: right:  6; predicted:  6 --> OK!\n 76: right: 20; predicted:  6 --> X\n 77: right: 75; predicted: 75 --> OK!\n 78: right:  6; predicted:  6 --> OK!\n 79: right: 20; predicted: 20 --> OK!\n 80: right: 75; predicted: 20 --> X\n 81: right:  6; predicted:  6 --> OK!\n 82: right: 20; predicted:  6 --> X\n 83: right: 75; predicted:  6 --> X\n 84: right:  6; predicted: 20 --> X\n 85: right: 20; predicted:  6 --> X\n 86: right: 75; predicted:  6 --> X\n 87: right:  6; predicted:  6 --> OK!\n 88: right: 20; predicted:  6 --> X\n 89: right: 75; predicted: 75 --> OK!\n 90: right:  6; predicted:  6 --> OK!\n 91: right: 20; predicted:  6 --> X\n 92: right: 75; predicted: 20 --> X\n 93: right:  6; predicted:  6 --> OK!\n 94: right: 20; predicted:  6 --> X\n 95: right: 75; predicted:  6 --> X\n 96: right:  6; predicted:  6 --> OK!\n 97: right: 20; predicted: 75 --> X\n 98: right: 75; predicted:  6 --> X\n 99: right:  6; predicted:  6 --> OK!\n100: right: 20; predicted: 20 --> OK!\n101: right: 75; predicted:  6 --> X\n102: right:  6; predicted:  6 --> OK!\n103: right: 20; predicted: 75 --> X\n104: right: 75; predicted:  6 --> X\n105: right:  6; predicted:  6 --> OK!\n106: right: 20; predicted:  6 --> X\n107: right: 75; predicted: 75 --> OK!\n108: right:  6; predicted:  6 --> OK!\n109: right: 20; predicted:  6 --> X\n110: right: 75; predicted: 20 --> X\n111: right:  6; predicted:  6 --> OK!\n112: right: 20; predicted: 75 --> X\n113: right: 75; predicted:  6 --> X\n114: right:  6; predicted:  6 --> OK!\n115: right: 20; predicted:  6 --> X\n116: right: 75; predicted:  6 --> X\n117: right:  6; predicted: 20 --> X\n118: right: 20; predicted:  6 --> X\n119: right: 75; predicted: 75 --> OK!\n120: right:  6; predicted:  6 --> OK!\n121: right: 20; predicted:  6 --> X\n122: right: 75; predicted:  6 --> X\n123: right:  6; predicted:  6 --> OK!\n124: right: 20; predicted: 20 --> OK!\n125: right: 75; predicted:  6 --> X\n126: right:  6; predicted:  6 --> OK!\n127: right: 20; predicted:  6 --> X\n128: right: 75; predicted:  6 --> X\n129: right:  6; predicted:  6 --> OK!\n130: right: 20; predicted:  6 --> X\n131: right: 75; predicted:  6 --> X\n132: right:  6; predicted:  6 --> OK!\n133: right: 20; predicted:  6 --> X\n134: right: 75; predicted:  6 --> X\n135: right:  6; predicted:  6 --> OK!\n136: right: 20; predicted: 20 --> OK!\n137: right: 75; predicted: 20 --> X\n138: right:  6; predicted:  6 --> OK!\n139: right: 20; predicted: 20 --> OK!\n140: right: 75; predicted: 75 --> OK!\n141: right:  6; predicted:  6 --> OK!\n142: right: 20; predicted:  6 --> X\n143: right: 75; predicted: 75 --> OK!\n144: right:  6; predicted:  6 --> OK!\n145: right: 20; predicted:  6 --> X\n146: right: 75; predicted: 20 --> X\n147: right:  6; predicted:  6 --> OK!\n148: right: 20; predicted:  6 --> X\n149: right: 75; predicted: 75 --> OK!\n150: right:  6; predicted:  6 --> OK!\n151: right: 20; predicted:  6 --> X\n152: right: 75; predicted:  6 --> X\n153: right:  6; predicted:  6 --> OK!\n154: right: 20; predicted: 20 --> OK!\n155: right: 75; predicted: 75 --> OK!\n156: right:  6; predicted:  6 --> OK!\n157: right: 20; predicted: 20 --> OK!\n158: right: 75; predicted:  6 --> X\n159: right:  6; predicted:  6 --> OK!\n160: right: 20; predicted:  6 --> X\n161: right: 75; predicted:  6 --> X\n162: right:  6; predicted:  6 --> OK!\n163: right: 20; predicted:  6 --> X\n164: right: 75; predicted:  6 --> X\n165: right:  6; predicted:  6 --> OK!\n166: right: 20; predicted:  6 --> X\n167: right: 75; predicted:  6 --> X\n168: right:  6; predicted:  6 --> OK!\n169: right: 20; predicted: 20 --> OK!\n170: right: 75; predicted: 20 --> X\n171: right:  6; predicted:  6 --> OK!\n172: right: 20; predicted: 20 --> OK!\n173: right: 75; predicted: 20 --> X\n174: right:  6; predicted:  6 --> OK!\n175: right: 20; predicted: 75 --> X\n176: right: 75; predicted:  6 --> X\n177: right:  6; predicted:  6 --> OK!\n178: right: 20; predicted:  6 --> X\n179: right: 75; predicted:  6 --> X\n180: right:  6; predicted:  6 --> OK!\n181: right: 20; predicted: 20 --> OK!\n182: right: 75; predicted:  6 --> X\n183: right:  6; predicted: 20 --> X\n184: right: 20; predicted:  6 --> X\n185: right: 75; predicted:  6 --> X\n186: right:  6; predicted:  6 --> OK!\n187: right: 20; predicted: 20 --> OK!\n188: right: 75; predicted:  6 --> X\n189: right:  6; predicted:  6 --> OK!\n190: right: 20; predicted:  6 --> X\n191: right: 75; predicted: 75 --> OK!\n192: right:  6; predicted:  6 --> OK!\n193: right: 20; predicted: 20 --> OK!\n194: right: 75; predicted:  6 --> X\n195: right:  6; predicted:  6 --> OK!\n196: right: 20; predicted: 20 --> OK!\n197: right: 75; predicted: 20 --> X\n198: right:  6; predicted:  6 --> OK!\n199: right: 20; predicted: 20 --> OK!\n200: right: 75; predicted: 20 --> X\n201: right:  6; predicted:  6 --> OK!\n202: right: 20; predicted:  6 --> X\n203: right: 75; predicted:  6 --> X\n204: right:  6; predicted:  6 --> OK!\n205: right: 20; predicted: 20 --> OK!\n206: right: 75; predicted:  6 --> X\n207: right:  6; predicted: 75 --> X\n208: right: 20; predicted: 20 --> OK!\n209: right: 75; predicted:  6 --> X\n210: right:  6; predicted:  6 --> OK!\n211: right: 20; predicted: 20 --> OK!\n212: right: 75; predicted:  6 --> X\n213: right:  6; predicted: 20 --> X\n214: right: 20; predicted:  6 --> X\n215: right: 75; predicted:  6 --> X\n216: right:  6; predicted:  6 --> OK!\n217: right: 20; predicted: 20 --> OK!\n218: right: 75; predicted:  6 --> X\n219: right:  6; predicted:  6 --> OK!\n220: right: 20; predicted:  6 --> X\n221: right: 75; predicted:  6 --> X\n222: right:  6; predicted: 20 --> X\n223: right: 20; predicted:  6 --> X\n224: right: 75; predicted: 20 --> X\n225: right:  6; predicted:  6 --> OK!\n226: right: 20; predicted:  6 --> X\n227: right: 75; predicted:  6 --> X\n228: right:  6; predicted:  6 --> OK!\n229: right: 20; predicted: 75 --> X\n230: right: 75; predicted:  6 --> X\n231: right:  6; predicted:  6 --> OK!\n232: right: 20; predicted: 20 --> OK!\n233: right: 75; predicted:  6 --> X\n234: right:  6; predicted:  6 --> OK!\n235: right: 20; predicted:  6 --> X\n236: right: 75; predicted:  6 --> X\n237: right:  6; predicted: 20 --> X\n238: right: 20; predicted: 20 --> OK!\n239: right: 75; predicted: 75 --> OK!\n240: right:  6; predicted:  6 --> OK!\n241: right: 20; predicted:  6 --> X\n242: right: 75; predicted:  6 --> X\n243: right:  6; predicted: 75 --> X\n244: right: 20; predicted:  6 --> X\n245: right: 75; predicted:  6 --> X\n246: right:  6; predicted: 75 --> X\n247: right: 20; predicted:  6 --> X\n248: right: 75; predicted:  6 --> X\n249: right:  6; predicted: 20 --> X\n250: right: 20; predicted: 20 --> OK!\n251: right: 75; predicted:  6 --> X\n252: right:  6; predicted:  6 --> OK!\n253: right: 20; predicted:  6 --> X\n254: right: 75; predicted: 20 --> X\n255: right:  6; predicted:  6 --> OK!\n256: right: 20; predicted:  6 --> X\n257: right: 75; predicted:  6 --> X\n258: right:  6; predicted:  6 --> OK!\n259: right: 20; predicted: 75 --> X\n260: right: 75; predicted:  6 --> X\n261: right:  6; predicted:  6 --> OK!\n262: right: 20; predicted:  6 --> X\n263: right: 75; predicted:  6 --> X\n264: right:  6; predicted:  6 --> OK!\n265: right: 20; predicted: 75 --> X\n266: right: 75; predicted:  6 --> X\n267: right:  6; predicted: 20 --> X\n268: right: 20; predicted:  6 --> X\n269: right: 75; predicted:  6 --> X\n270: right:  6; predicted:  6 --> OK!\n271: right: 20; predicted:  6 --> X\n272: right: 75; predicted:  6 --> X\n273: right:  6; predicted:  6 --> OK!\n274: right: 20; predicted:  6 --> X\n275: right: 75; predicted: 75 --> OK!\n276: right:  6; predicted:  6 --> OK!\n277: right: 20; predicted: 75 --> X\n278: right: 75; predicted: 75 --> OK!\n279: right:  6; predicted: 20 --> X\n280: right: 20; predicted: 20 --> OK!\n281: right: 75; predicted:  6 --> X\n282: right:  6; predicted:  6 --> OK!\n283: right: 20; predicted:  6 --> X\n284: right: 75; predicted: 75 --> OK!\n285: right:  6; predicted:  6 --> OK!\n286: right: 20; predicted:  6 --> X\n287: right: 75; predicted:  6 --> X\n"
    }
   ],
   "source": [
    "for i in chosen.index:\n",
    "    r = int(chosen.at[i, 'state'])\n",
    "    p = int(chosen.at[i, 'lda_chosen'])\n",
    "    print(\"{:3}: right: {:2}; predicted: {:2} --> {}\".format(i, r, p, 'OK!' if r == p else 'X'))"
   ]
  }
 ]
}