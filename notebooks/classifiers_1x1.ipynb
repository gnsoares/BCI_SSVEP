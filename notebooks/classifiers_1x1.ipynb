{
 "cells": [
  {
   "cell_type": "code",
   "execution_count": 1,
   "metadata": {},
   "outputs": [],
   "source": [
    "import sys\n",
    "sys.path.append('../')\n",
    "import pandas as pd\n",
    "from source.ml import generate_1x1_classifiers"
   ]
  },
  {
   "cell_type": "code",
   "execution_count": 2,
   "metadata": {},
   "outputs": [],
   "source": [
    "freqs = [6, 12, 20, 30, 75]\n",
    "training = pd.read_csv('../sets/carvalho/train.csv')\n",
    "training_car = pd.read_csv('../sets/carvalho/train_car.csv')"
   ]
  },
  {
   "cell_type": "code",
   "execution_count": 3,
   "metadata": {},
   "outputs": [],
   "source": [
    "# attributes extracted with and without car have different classifiers\n",
    "classifiers = generate_1x1_classifiers(training, freqs)\n",
    "classifiers_car = generate_1x1_classifiers(training_car, freqs)\n"
   ]
  },
  {
   "cell_type": "code",
   "execution_count": 5,
   "metadata": {},
   "outputs": [],
   "source": [
    "# save result in csv files\n",
    "for i in classifiers:\n",
    "    classifiers[i].to_csv(f'../classifiers/carvalho/{i}.csv', index=False)\n",
    "    classifiers_car[i].to_csv(f'../classifiers/carvalho/{i}_car.csv', index=False)"
   ]
  }
 ],
 "metadata": {
  "kernelspec": {
   "display_name": "Python 3",
   "language": "python",
   "name": "python3"
  },
  "language_info": {
   "codemirror_mode": {
    "name": "ipython",
    "version": 3
   },
   "file_extension": ".py",
   "mimetype": "text/x-python",
   "name": "python",
   "nbconvert_exporter": "python",
   "pygments_lexer": "ipython3",
   "version": "3.8.2"
  }
 },
 "nbformat": 4,
 "nbformat_minor": 4
}