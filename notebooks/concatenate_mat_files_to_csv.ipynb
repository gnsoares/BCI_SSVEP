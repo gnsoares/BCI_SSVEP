{
 "cells": [
  {
   "cell_type": "code",
   "execution_count": 1,
   "metadata": {},
   "outputs": [],
   "source": [
    "import numpy as np\n",
    "import scipy.io as sio"
   ]
  },
  {
   "cell_type": "code",
   "execution_count": 2,
   "metadata": {},
   "outputs": [],
   "source": [
    "subjects = ['carlos', 'george', 'guilherme', 'harlei', 'Heiko', 'joao', 'luis', 'luisa', 'sarah', 'thiago']\n",
    "sessions = 8\n",
    "freqs = [0, 6, 12, 20, 30, 75]\n",
    "sampling_f = 256\n",
    "sessions_time = 12\n",
    "file_fstring = 'datasets_originals/carvalho/{subject}/ssvep_{f}_Hz_training_subject_{subject}_session_{i}.mat'"
   ]
  },
  {
   "cell_type": "code",
   "execution_count": 3,
   "metadata": {},
   "outputs": [],
   "source": [
    "# format matlab files to dict\n",
    "mats = {\n",
    "    subject: {\n",
    "        freq: [\n",
    "            sio.loadmat(\n",
    "                file_fstring.format(subject=subject, f=freq, i=i)\n",
    "            ) for i in range(1, sessions + 1)\n",
    "        ] for freq in freqs\n",
    "    } for subject in subjects\n",
    "}"
   ]
  },
  {
   "cell_type": "code",
   "execution_count": 4,
   "metadata": {},
   "outputs": [],
   "source": [
    "# save each frequency for each subject in a different file\n",
    "for subject in subjects:\n",
    "    for freq in freqs:\n",
    "        np.savetxt(\n",
    "            f'datasets/carvalho/{subject.lower()}_{freq}Hz.csv',\n",
    "            # all sessions are concatenated together as if they happened all at once\n",
    "            np.concatenate([mats[subject][freq][i]['storageDataAcquirement'] for i in range(sessions)]),\n",
    "            delimiter=','\n",
    "        )"
   ]
  }
 ],
 "metadata": {
  "file_extension": ".py",
  "kernelspec": {
   "display_name": "Python 3.8.2 64-bit ('env': virtualenv)",
   "language": "python",
   "name": "python38264bitenvvirtualenvea7a256bf6bb4c57834162834fd0e2da"
  },
  "language_info": {
   "codemirror_mode": {
    "name": "ipython",
    "version": 3
   },
   "file_extension": ".py",
   "mimetype": "text/x-python",
   "name": "python",
   "nbconvert_exporter": "python",
   "pygments_lexer": "ipython3",
   "version": "3.8.2"
  },
  "mimetype": "text/x-python",
  "name": "python",
  "npconvert_exporter": "python",
  "pygments_lexer": "ipython3",
  "version": 3
 },
 "nbformat": 4,
 "nbformat_minor": 2
}