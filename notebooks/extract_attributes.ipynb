{
 "cells": [
  {
   "cell_type": "code",
   "execution_count": 1,
   "metadata": {},
   "outputs": [],
   "source": [
    "import sys\n",
    "sys.path.append('../')\n",
    "import numpy as np\n",
    "import pandas as pd\n",
    "from source.signal_proc import car_filter, get_windows, extract_attributes"
   ]
  },
  {
   "cell_type": "code",
   "execution_count": 2,
   "metadata": {},
   "outputs": [],
   "source": [
    "subjects = ['carlos', 'george', 'guilherme', 'harlei', 'heiko', 'joao', 'luis', 'luisa', 'sarah', 'thiago']\n",
    "freqs = [0, 6, 12, 20, 30, 75]\n",
    "sampling_f = 256"
   ]
  },
  {
   "cell_type": "code",
   "execution_count": 3,
   "metadata": {},
   "outputs": [],
   "source": [
    "df = pd.Series(index=subjects, dtype='object')"
   ]
  },
  {
   "cell_type": "code",
   "execution_count": 4,
   "metadata": {},
   "outputs": [],
   "source": [
    "# structure data\n",
    "for subject in subjects:\n",
    "    df[subject] = pd.Series(index=freqs, dtype='object')\n",
    "    for freq in freqs:\n",
    "        df[subject][freq] = np.genfromtxt(f'../datasets/carvalho/{subject}_{freq}Hz.csv', delimiter=',', dtype=None).T"
   ]
  },
  {
   "cell_type": "code",
   "execution_count": 5,
   "metadata": {},
   "outputs": [],
   "source": [
    "# apply Common Average Reference filter\n",
    "df_car = car_filter(df)"
   ]
  },
  {
   "cell_type": "code",
   "execution_count": 6,
   "metadata": {},
   "outputs": [],
   "source": [
    "# split data into windows of 3s, each window corresponds to one input\n",
    "windows = get_windows(df, 3, sampling_f)\n",
    "windows_car = get_windows(df_car, 3, sampling_f)"
   ]
  },
  {
   "cell_type": "code",
   "execution_count": 7,
   "metadata": {},
   "outputs": [],
   "source": [
    "# extract attributes\n",
    "attributes = [extract_attributes(windows[subject], freqs[1:], sampling_f, 3) for subject in subjects]\n",
    "attributes_car = [extract_attributes(windows_car[subject], freqs[1:], sampling_f, 3) for subject in subjects]"
   ]
  },
  {
   "cell_type": "code",
   "execution_count": 11,
   "metadata": {},
   "outputs": [],
   "source": [
    "# join results\n",
    "attributes = pd.concat(attributes, axis=0, sort=False)\n",
    "attributes_car = pd.concat(attributes_car, axis=0, sort=False)"
   ]
  },
  {
   "cell_type": "code",
   "execution_count": 12,
   "metadata": {},
   "outputs": [],
   "source": [
    "# save result in csv files\n",
    "attributes.to_csv(f'../extracted_attributes/carvalho.csv', index=False)\n",
    "attributes_car.to_csv(f'../extracted_attributes/carvalho_car.csv', index=False)"
   ]
  }
 ],
 "metadata": {
  "kernelspec": {
   "display_name": "Python 3",
   "language": "python",
   "name": "python3"
  },
  "language_info": {
   "codemirror_mode": {
    "name": "ipython",
    "version": 3
   },
   "file_extension": ".py",
   "mimetype": "text/x-python",
   "name": "python",
   "nbconvert_exporter": "python",
   "pygments_lexer": "ipython3",
   "version": "3.8.2"
  }
 },
 "nbformat": 4,
 "nbformat_minor": 4
}